{
 "cells": [
  {
   "cell_type": "markdown",
   "metadata": {},
   "source": [
    "# Развертывание приложения streamlit в облаке\n",
    "\n",
    "* создание виртуального окружения\n",
    "* добавление файлов проекта\n",
    "* создание репозитория в git\n",
    "* публикация приложения\n",
    "\n",
    "## Создание виртуального окружения\n",
    "\n",
    "Кратко напомним основные команды:"
   ]
  },
  {
   "cell_type": "markdown",
   "metadata": {},
   "source": [
    "Команда создания виртуального окружения (запустить в папке проекта, посмотреть, что получилось в результате)\n",
    "```bash\n",
    "python3 -m venv demo\n",
    "```\n",
    "\n",
    "Активация окружения в Windows:\n",
    "```bash\n",
    "demo\\Scripts\\activate\n",
    "```\n",
    "Активация окружения в Unix или MacOS:\n",
    "```bash\n",
    "source stlitenv/bin/activate\n",
    "```\n",
    "\n",
    "Установка streamlit\n",
    "```bash\n",
    "pip install streamlit\n",
    "```\n",
    "Убедимся что все работает, запустим демо:\n",
    "```bash\n",
    "streamlit hello\n",
    "```"
   ]
  },
  {
   "cell_type": "markdown",
   "metadata": {},
   "source": [
    "## Добавление файлов проекта\n",
    "Для того, чтобы пройти весь процесс развертывания приложения, для начала ограничимся минимальным примером приложения:\n",
    "\n",
    "В файле `app.py`:\n",
    "```python\n",
    "import streamlit as st\n",
    "\n",
    "st.write(\"Hello world\")\n",
    "```"
   ]
  },
  {
   "cell_type": "markdown",
   "metadata": {},
   "source": [
    "## Создание репозитория в git\n",
    "\n",
    "1. Создадим новый репозиторий на Github:\n",
    "\n",
    "1. Создадим новый репозиторий в папке проекта:\n",
    "```bash\n",
    "git init\n",
    "```\n",
    "2. Создадим файл `.gitignore`:\n",
    "```\n",
    ".ipynb_checkpoints/\n",
    "stlitenv/\n",
    "```\n",
    "\n",
    "3. Добавим все файлы в проект:\n",
    "```bash\n",
    "git add -A\n",
    "```\n",
    "\n",
    "4. Убедимся, что добавляем в репозиторий только нужные нам файлы:\n",
    "```bash\n",
    "git status\n",
    "```\n",
    "5. Добавим коммит в проект:\n",
    "```bash\n",
    "git commit -m 'Init'\n",
    "```\n",
    "\n",
    "6. Для того, чтобы отправить изменения в удаленном репозитории на Github понадобится токен, сгенерировать его можно в настройках профиля: https://github.com/settings/tokens\n",
    "\n",
    "7. Добавим коммит в проект:\n",
    "```bash\n",
    "git remote add origin https://github.com/<your_nickname>/streamlit_demo.git\n",
    "git push -u -f origin main\n",
    "```\n",
    "Потребуется ввести ваш логин и токен."
   ]
  },
  {
   "cell_type": "markdown",
   "metadata": {},
   "source": [
    "## Публикация приложения\n",
    "\n",
    "Авторизоваться на https://share.streamlit.io/ используя свой аккаунт на github (возможно потребуется подтверждение кодом из email)\n",
    "\n",
    "После авторизации появится возможность указать репозиторий и файл приложения streamlit для публикации.\n",
    "\n",
    "После запуска приложения оно будет доступно для работы."
   ]
  },
  {
   "cell_type": "code",
   "execution_count": null,
   "metadata": {},
   "outputs": [],
   "source": []
  }
 ],
 "metadata": {
  "kernelspec": {
   "display_name": "Python 3 (ipykernel)",
   "language": "python",
   "name": "python3"
  },
  "language_info": {
   "codemirror_mode": {
    "name": "ipython",
    "version": 3
   },
   "file_extension": ".py",
   "mimetype": "text/x-python",
   "name": "python",
   "nbconvert_exporter": "python",
   "pygments_lexer": "ipython3",
   "version": "3.11.4"
  }
 },
 "nbformat": 4,
 "nbformat_minor": 4
}
